{
 "cells": [
  {
   "cell_type": "code",
   "execution_count": 1,
   "id": "b982b10c",
   "metadata": {
    "execution": {
     "iopub.execute_input": "2024-09-23T15:55:51.426849Z",
     "iopub.status.busy": "2024-09-23T15:55:51.426210Z",
     "iopub.status.idle": "2024-09-23T15:55:55.978553Z",
     "shell.execute_reply": "2024-09-23T15:55:55.977781Z"
    },
    "id": "1d3x-_rLJqz0",
    "papermill": {
     "duration": 4.563377,
     "end_time": "2024-09-23T15:55:55.980787",
     "exception": false,
     "start_time": "2024-09-23T15:55:51.417410",
     "status": "completed"
    },
    "tags": []
   },
   "outputs": [],
   "source": [
    "import torch\n",
    "from torch import nn, optim\n",
    "from torchvision import datasets, transforms\n",
    "import torch.nn.functional as F\n",
    "from torch.utils.data import DataLoader\n",
    "from torchvision.utils import save_image\n",
    "from math import log2\n",
    "import numpy as np\n",
    "import os\n",
    "from tqdm import tqdm\n",
    "import matplotlib.pyplot as plt\n"
   ]
  },
  {
   "cell_type": "code",
   "execution_count": 2,
   "id": "deffb9f5",
   "metadata": {
    "execution": {
     "iopub.execute_input": "2024-09-23T15:55:55.997127Z",
     "iopub.status.busy": "2024-09-23T15:55:55.996695Z",
     "iopub.status.idle": "2024-09-23T15:55:56.003132Z",
     "shell.execute_reply": "2024-09-23T15:55:56.002433Z"
    },
    "id": "TOsT66ad0HDT",
    "papermill": {
     "duration": 0.016356,
     "end_time": "2024-09-23T15:55:56.004921",
     "exception": false,
     "start_time": "2024-09-23T15:55:55.988565",
     "status": "completed"
    },
    "tags": []
   },
   "outputs": [],
   "source": [
    "import os\n",
    "\n",
    "# Navigate to your folder\n",
    "folder_path = '/kaggle/input/women-clothes/clothes'\n",
    "os.chdir(folder_path)"
   ]
  },
  {
   "cell_type": "code",
   "execution_count": 3,
   "id": "dbe24011",
   "metadata": {
    "execution": {
     "iopub.execute_input": "2024-09-23T15:55:56.021672Z",
     "iopub.status.busy": "2024-09-23T15:55:56.021011Z",
     "iopub.status.idle": "2024-09-23T15:55:56.082420Z",
     "shell.execute_reply": "2024-09-23T15:55:56.081458Z"
    },
    "id": "GODeZP77JwZ1",
    "papermill": {
     "duration": 0.072589,
     "end_time": "2024-09-23T15:55:56.084342",
     "exception": false,
     "start_time": "2024-09-23T15:55:56.011753",
     "status": "completed"
    },
    "tags": []
   },
   "outputs": [],
   "source": [
    "DATASET                 = '/kaggle/input/women-clothes/clothes'\n",
    "START_TRAIN_AT_IMG_SIZE = 8 #The authors start from 8x8 images instead of 4x4\n",
    "DEVICE                  = \"cuda\" if torch.cuda.is_available() else \"cpu\"\n",
    "LEARNING_RATE           = 1e-3\n",
    "BATCH_SIZES             = [256, 128, 64, 32, 16, 8]\n",
    "CHANNELS_IMG            = 3\n",
    "Z_DIM                   = 256\n",
    "W_DIM                   = 256\n",
    "IN_CHANNELS             = 256\n",
    "LAMBDA_GP               = 10\n",
    "PROGRESSIVE_EPOCHS      = [30] * len(BATCH_SIZES)"
   ]
  },
  {
   "cell_type": "code",
   "execution_count": 4,
   "id": "130d5e15",
   "metadata": {
    "execution": {
     "iopub.execute_input": "2024-09-23T15:55:56.099347Z",
     "iopub.status.busy": "2024-09-23T15:55:56.099039Z",
     "iopub.status.idle": "2024-09-23T15:55:56.105596Z",
     "shell.execute_reply": "2024-09-23T15:55:56.104895Z"
    },
    "id": "ff5fsKKvJwWm",
    "papermill": {
     "duration": 0.016091,
     "end_time": "2024-09-23T15:55:56.107562",
     "exception": false,
     "start_time": "2024-09-23T15:55:56.091471",
     "status": "completed"
    },
    "tags": []
   },
   "outputs": [],
   "source": [
    "def get_loader(image_size):\n",
    "    transform = transforms.Compose(\n",
    "        [\n",
    "            transforms.Resize((image_size, image_size)),\n",
    "            transforms.ToTensor(),\n",
    "            transforms.RandomHorizontalFlip(p=0.5),\n",
    "            transforms.Normalize(\n",
    "                [0.5 for _ in range(CHANNELS_IMG)],\n",
    "                [0.5 for _ in range(CHANNELS_IMG)],\n",
    "            ),\n",
    "        ]\n",
    "    )\n",
    "    batch_size = BATCH_SIZES[int(log2(image_size / 4))]\n",
    "    dataset = datasets.ImageFolder(root=DATASET, transform=transform)\n",
    "    loader = DataLoader(\n",
    "        dataset,\n",
    "        batch_size=batch_size,\n",
    "        shuffle=True,\n",
    "    )\n",
    "    return loader, dataset\n"
   ]
  },
  {
   "cell_type": "code",
   "execution_count": 5,
   "id": "4b8ee5ed",
   "metadata": {
    "execution": {
     "iopub.execute_input": "2024-09-23T15:55:56.122731Z",
     "iopub.status.busy": "2024-09-23T15:55:56.122006Z",
     "iopub.status.idle": "2024-09-23T15:55:56.444108Z",
     "shell.execute_reply": "2024-09-23T15:55:56.443213Z"
    },
    "id": "B9Oaqbup2wjB",
    "outputId": "982fb872-3855-4b23-cd3b-cd3661d2e7a7",
    "papermill": {
     "duration": 0.332098,
     "end_time": "2024-09-23T15:55:56.446414",
     "exception": false,
     "start_time": "2024-09-23T15:55:56.114316",
     "status": "completed"
    },
    "tags": []
   },
   "outputs": [
    {
     "name": "stdout",
     "output_type": "stream",
     "text": [
      "Total images in dataset: 16240\n"
     ]
    }
   ],
   "source": [
    "import os\n",
    "from PIL import Image\n",
    "from torch.utils.data import Dataset\n",
    "from torchvision import transforms\n",
    "\n",
    "class FlatImageDataset(Dataset):\n",
    "    def __init__(self, root_dir, transform=None):\n",
    "        self.root_dir = root_dir\n",
    "        self.transform = transform\n",
    "        # List all image files in the root directory\n",
    "        self.image_paths = [os.path.join(root_dir, f) for f in os.listdir(root_dir) if f.endswith(('.png', '.jpg', '.jpeg'))]\n",
    "\n",
    "    def __len__(self):\n",
    "        return len(self.image_paths)\n",
    "\n",
    "    def __getitem__(self, idx):\n",
    "        img_path = self.image_paths[idx]\n",
    "        image = Image.open(img_path).convert(\"RGB\")  # Convert to RGB to handle grayscale images\n",
    "        if self.transform:\n",
    "            image = self.transform(image)\n",
    "        return image\n",
    "\n",
    "# Define the transformations you want for your dataset\n",
    "transform = transforms.Compose([\n",
    "    transforms.Resize((64, 64)),  # Resize images to 64x64\n",
    "    transforms.ToTensor(),        # Convert images to PyTorch tensors\n",
    "])\n",
    "\n",
    "# Load the dataset from the flat directory\n",
    "dataset = FlatImageDataset(root_dir=DATASET, transform=transform)\n",
    "\n",
    "# Check the number of images loaded\n",
    "print(f\"Total images in dataset: {len(dataset)}\")\n"
   ]
  },
  {
   "cell_type": "code",
   "execution_count": 6,
   "id": "3624ddf3",
   "metadata": {
    "execution": {
     "iopub.execute_input": "2024-09-23T15:55:56.462007Z",
     "iopub.status.busy": "2024-09-23T15:55:56.461677Z",
     "iopub.status.idle": "2024-09-23T15:55:56.465925Z",
     "shell.execute_reply": "2024-09-23T15:55:56.465162Z"
    },
    "id": "XyKn1V0uJwU-",
    "papermill": {
     "duration": 0.014172,
     "end_time": "2024-09-23T15:55:56.467799",
     "exception": false,
     "start_time": "2024-09-23T15:55:56.453627",
     "status": "completed"
    },
    "tags": []
   },
   "outputs": [],
   "source": [
    "factors = [1, 1, 1, 1, 1 / 2, 1 / 4, 1 / 8, 1 / 16, 1 / 32]"
   ]
  },
  {
   "cell_type": "code",
   "execution_count": 7,
   "id": "21fed109",
   "metadata": {
    "execution": {
     "iopub.execute_input": "2024-09-23T15:55:56.482585Z",
     "iopub.status.busy": "2024-09-23T15:55:56.482114Z",
     "iopub.status.idle": "2024-09-23T15:55:56.488265Z",
     "shell.execute_reply": "2024-09-23T15:55:56.487454Z"
    },
    "id": "abTN36SnJwT-",
    "papermill": {
     "duration": 0.015505,
     "end_time": "2024-09-23T15:55:56.490129",
     "exception": false,
     "start_time": "2024-09-23T15:55:56.474624",
     "status": "completed"
    },
    "tags": []
   },
   "outputs": [],
   "source": [
    "class WSLinear(nn.Module):\n",
    "    def __init__(\n",
    "        self, in_features, out_features,\n",
    "    ):\n",
    "        super(WSLinear, self).__init__()\n",
    "        self.linear = nn.Linear(in_features, out_features)\n",
    "        self.scale = (2 / in_features)**0.5\n",
    "        self.bias = self.linear.bias\n",
    "        self.linear.bias = None\n",
    "\n",
    "        # initialize linear layer\n",
    "        nn.init.normal_(self.linear.weight)\n",
    "        nn.init.zeros_(self.bias)\n",
    "\n",
    "    def forward(self, x):\n",
    "        return self.linear(x * self.scale) + self.bias"
   ]
  },
  {
   "cell_type": "code",
   "execution_count": 8,
   "id": "7c27f420",
   "metadata": {
    "execution": {
     "iopub.execute_input": "2024-09-23T15:55:56.505007Z",
     "iopub.status.busy": "2024-09-23T15:55:56.504364Z",
     "iopub.status.idle": "2024-09-23T15:55:56.510916Z",
     "shell.execute_reply": "2024-09-23T15:55:56.510162Z"
    },
    "id": "cqW3E0iUJwR_",
    "papermill": {
     "duration": 0.016045,
     "end_time": "2024-09-23T15:55:56.512849",
     "exception": false,
     "start_time": "2024-09-23T15:55:56.496804",
     "status": "completed"
    },
    "tags": []
   },
   "outputs": [],
   "source": [
    "class MappingNetwork(nn.Module):\n",
    "    def __init__(self, z_dim, w_dim):\n",
    "        super().__init__()\n",
    "        self.mapping = nn.Sequential(\n",
    "            PixelNorm(),\n",
    "            WSLinear(z_dim, w_dim),\n",
    "            nn.ReLU(),\n",
    "            WSLinear(w_dim, w_dim),\n",
    "            nn.ReLU(),\n",
    "            WSLinear(w_dim, w_dim),\n",
    "            nn.ReLU(),\n",
    "            WSLinear(w_dim, w_dim),\n",
    "            nn.ReLU(),\n",
    "            WSLinear(w_dim, w_dim),\n",
    "            nn.ReLU(),\n",
    "            WSLinear(w_dim, w_dim),\n",
    "            nn.ReLU(),\n",
    "            WSLinear(w_dim, w_dim),\n",
    "            nn.ReLU(),\n",
    "            WSLinear(w_dim, w_dim),\n",
    "        )\n",
    "\n",
    "    def forward(self, x):\n",
    "        return self.mapping(x)"
   ]
  },
  {
   "cell_type": "code",
   "execution_count": 9,
   "id": "2193779d",
   "metadata": {
    "execution": {
     "iopub.execute_input": "2024-09-23T15:55:56.528021Z",
     "iopub.status.busy": "2024-09-23T15:55:56.527336Z",
     "iopub.status.idle": "2024-09-23T15:55:56.533408Z",
     "shell.execute_reply": "2024-09-23T15:55:56.532613Z"
    },
    "id": "n1ufoLweJwQT",
    "papermill": {
     "duration": 0.015569,
     "end_time": "2024-09-23T15:55:56.535274",
     "exception": false,
     "start_time": "2024-09-23T15:55:56.519705",
     "status": "completed"
    },
    "tags": []
   },
   "outputs": [],
   "source": [
    "class AdaIN(nn.Module):\n",
    "    def __init__(self, channels, w_dim):\n",
    "        super().__init__()\n",
    "        self.instance_norm = nn.InstanceNorm2d(channels)\n",
    "        self.style_scale = WSLinear(w_dim, channels)\n",
    "        self.style_bias = WSLinear(w_dim, channels)\n",
    "\n",
    "    def forward(self, x, w):\n",
    "        x = self.instance_norm(x)\n",
    "        style_scale = self.style_scale(w).unsqueeze(2).unsqueeze(3)\n",
    "        style_bias = self.style_bias(w).unsqueeze(2).unsqueeze(3)\n",
    "        return style_scale * x + style_bias"
   ]
  },
  {
   "cell_type": "code",
   "execution_count": 10,
   "id": "4e2128f5",
   "metadata": {
    "execution": {
     "iopub.execute_input": "2024-09-23T15:55:56.550186Z",
     "iopub.status.busy": "2024-09-23T15:55:56.549853Z",
     "iopub.status.idle": "2024-09-23T15:55:56.555553Z",
     "shell.execute_reply": "2024-09-23T15:55:56.554813Z"
    },
    "id": "IgBOqtp0JwOh",
    "papermill": {
     "duration": 0.015307,
     "end_time": "2024-09-23T15:55:56.557513",
     "exception": false,
     "start_time": "2024-09-23T15:55:56.542206",
     "status": "completed"
    },
    "tags": []
   },
   "outputs": [],
   "source": [
    "class InjectNoise(nn.Module):\n",
    "    def __init__(self, channels):\n",
    "        super().__init__()\n",
    "        self.weight = nn.Parameter(torch.zeros(1, channels, 1, 1))\n",
    "\n",
    "    def forward(self, x):\n",
    "        noise = torch.randn((x.shape[0], 1, x.shape[2], x.shape[3]), device=x.device)\n",
    "        return x + self.weight * noise"
   ]
  },
  {
   "cell_type": "code",
   "execution_count": 11,
   "id": "b44649fa",
   "metadata": {
    "execution": {
     "iopub.execute_input": "2024-09-23T15:55:56.572092Z",
     "iopub.status.busy": "2024-09-23T15:55:56.571796Z",
     "iopub.status.idle": "2024-09-23T15:55:56.578448Z",
     "shell.execute_reply": "2024-09-23T15:55:56.577714Z"
    },
    "id": "kYNNRMEkJwM6",
    "papermill": {
     "duration": 0.015938,
     "end_time": "2024-09-23T15:55:56.580224",
     "exception": false,
     "start_time": "2024-09-23T15:55:56.564286",
     "status": "completed"
    },
    "tags": []
   },
   "outputs": [],
   "source": [
    "class WSConv2d(nn.Module):\n",
    "    def __init__(\n",
    "        self, in_channels, out_channels, kernel_size=3, stride=1, padding=1\n",
    "    ):\n",
    "        super(WSConv2d, self).__init__()\n",
    "        self.conv = nn.Conv2d(in_channels, out_channels, kernel_size, stride, padding)\n",
    "        self.scale = (2 / (in_channels * (kernel_size ** 2))) ** 0.5\n",
    "        self.bias = self.conv.bias\n",
    "        self.conv.bias = None\n",
    "\n",
    "        # initialize conv layer\n",
    "        nn.init.normal_(self.conv.weight)\n",
    "        nn.init.zeros_(self.bias)\n",
    "\n",
    "    def forward(self, x):\n",
    "        return self.conv(x * self.scale) + self.bias.view(1, self.bias.shape[0], 1, 1)"
   ]
  },
  {
   "cell_type": "code",
   "execution_count": 12,
   "id": "31f2b8c5",
   "metadata": {
    "execution": {
     "iopub.execute_input": "2024-09-23T15:55:56.594733Z",
     "iopub.status.busy": "2024-09-23T15:55:56.594461Z",
     "iopub.status.idle": "2024-09-23T15:55:56.599393Z",
     "shell.execute_reply": "2024-09-23T15:55:56.598587Z"
    },
    "id": "kjGUD29QJwLE",
    "papermill": {
     "duration": 0.014193,
     "end_time": "2024-09-23T15:55:56.601219",
     "exception": false,
     "start_time": "2024-09-23T15:55:56.587026",
     "status": "completed"
    },
    "tags": []
   },
   "outputs": [],
   "source": [
    "class PixelNorm(nn.Module):\n",
    "    def __init__(self):\n",
    "        super(PixelNorm, self).__init__()\n",
    "        self.epsilon = 1e-8\n",
    "\n",
    "    def forward(self, x):\n",
    "        return x / torch.sqrt(torch.mean(x ** 2, dim=1, keepdim=True) + self.epsilon)"
   ]
  },
  {
   "cell_type": "code",
   "execution_count": 13,
   "id": "c7d12072",
   "metadata": {
    "execution": {
     "iopub.execute_input": "2024-09-23T15:55:56.615708Z",
     "iopub.status.busy": "2024-09-23T15:55:56.615432Z",
     "iopub.status.idle": "2024-09-23T15:55:56.620967Z",
     "shell.execute_reply": "2024-09-23T15:55:56.620152Z"
    },
    "id": "FFm5xQWyJwJj",
    "papermill": {
     "duration": 0.014965,
     "end_time": "2024-09-23T15:55:56.622846",
     "exception": false,
     "start_time": "2024-09-23T15:55:56.607881",
     "status": "completed"
    },
    "tags": []
   },
   "outputs": [],
   "source": [
    "class ConvBlock(nn.Module):\n",
    "    def __init__(self, in_channels, out_channels):\n",
    "        super(ConvBlock, self).__init__()\n",
    "        self.conv1 = WSConv2d(in_channels, out_channels)\n",
    "        self.conv2 = WSConv2d(out_channels, out_channels)\n",
    "        self.leaky = nn.LeakyReLU(0.2)\n",
    "\n",
    "    def forward(self, x):\n",
    "        x = self.leaky(self.conv1(x))\n",
    "        x = self.leaky(self.conv2(x))\n",
    "        return x"
   ]
  },
  {
   "cell_type": "code",
   "execution_count": 14,
   "id": "68e0de86",
   "metadata": {
    "execution": {
     "iopub.execute_input": "2024-09-23T15:55:56.637701Z",
     "iopub.status.busy": "2024-09-23T15:55:56.637428Z",
     "iopub.status.idle": "2024-09-23T15:55:56.654216Z",
     "shell.execute_reply": "2024-09-23T15:55:56.653384Z"
    },
    "id": "y_nAEJ8dJwH9",
    "papermill": {
     "duration": 0.026464,
     "end_time": "2024-09-23T15:55:56.656086",
     "exception": false,
     "start_time": "2024-09-23T15:55:56.629622",
     "status": "completed"
    },
    "tags": []
   },
   "outputs": [],
   "source": [
    "class Discriminator(nn.Module):\n",
    "    def __init__(self, in_channels, img_channels=3):\n",
    "        super(Discriminator, self).__init__()\n",
    "        self.prog_blocks, self.rgb_layers = nn.ModuleList([]), nn.ModuleList([])\n",
    "        self.leaky = nn.LeakyReLU(0.2)\n",
    "\n",
    "        # here we work back ways from factors because the discriminator\n",
    "        # should be mirrored from the generator. So the first prog_block and\n",
    "        # rgb layer we append will work for input size 1024x1024, then 512->256-> etc\n",
    "        for i in range(len(factors) - 1, 0, -1):\n",
    "            conv_in = int(in_channels * factors[i])\n",
    "            conv_out = int(in_channels * factors[i - 1])\n",
    "            self.prog_blocks.append(ConvBlock(conv_in, conv_out))\n",
    "            self.rgb_layers.append(\n",
    "                WSConv2d(img_channels, conv_in, kernel_size=1, stride=1, padding=0)\n",
    "            )\n",
    "\n",
    "        # perhaps confusing name \"initial_rgb\" this is just the RGB layer for 4x4 input size\n",
    "        # did this to \"mirror\" the generator initial_rgb\n",
    "        self.initial_rgb = WSConv2d(\n",
    "            img_channels, in_channels, kernel_size=1, stride=1, padding=0\n",
    "        )\n",
    "        self.rgb_layers.append(self.initial_rgb)\n",
    "        self.avg_pool = nn.AvgPool2d(\n",
    "            kernel_size=2, stride=2\n",
    "        )  # down sampling using avg pool\n",
    "\n",
    "        # this is the block for 4x4 input size\n",
    "        self.final_block = nn.Sequential(\n",
    "            # +1 to in_channels because we concatenate from MiniBatch std\n",
    "            WSConv2d(in_channels + 1, in_channels, kernel_size=3, padding=1),\n",
    "            nn.LeakyReLU(0.2),\n",
    "            WSConv2d(in_channels, in_channels, kernel_size=4, padding=0, stride=1),\n",
    "            nn.LeakyReLU(0.2),\n",
    "            WSConv2d(\n",
    "                in_channels, 1, kernel_size=1, padding=0, stride=1\n",
    "            ),  # we use this instead of linear layer\n",
    "        )\n",
    "\n",
    "    def fade_in(self, alpha, downscaled, out):\n",
    "        \"\"\"Used to fade in downscaled using avg pooling and output from CNN\"\"\"\n",
    "        # alpha should be scalar within [0, 1], and upscale.shape == generated.shape\n",
    "        return alpha * out + (1 - alpha) * downscaled\n",
    "\n",
    "    def minibatch_std(self, x):\n",
    "        batch_statistics = (\n",
    "            torch.std(x, dim=0).mean().repeat(x.shape[0], 1, x.shape[2], x.shape[3])\n",
    "        )\n",
    "        # we take the std for each example (across all channels, and pixels) then we repeat it\n",
    "        # for a single channel and concatenate it with the image. In this way the discriminator\n",
    "        # will get information about the variation in the batch/image\n",
    "        return torch.cat([x, batch_statistics], dim=1)\n",
    "\n",
    "    def forward(self, x, alpha, steps):\n",
    "        # where we should start in the list of prog_blocks, maybe a bit confusing but\n",
    "        # the last is for the 4x4. So example let's say steps=1, then we should start\n",
    "        # at the second to last because input_size will be 8x8. If steps==0 we just\n",
    "        # use the final block\n",
    "        cur_step = len(self.prog_blocks) - steps\n",
    "\n",
    "        # convert from rgb as initial step, this will depend on\n",
    "        # the image size (each will have it's on rgb layer)\n",
    "        out = self.leaky(self.rgb_layers[cur_step](x))\n",
    "\n",
    "        if steps == 0:  # i.e, image is 4x4\n",
    "            out = self.minibatch_std(out)\n",
    "            return self.final_block(out).view(out.shape[0], -1)\n",
    "\n",
    "        # because prog_blocks might change the channels, for down scale we use rgb_layer\n",
    "        # from previous/smaller size which in our case correlates to +1 in the indexing\n",
    "        downscaled = self.leaky(self.rgb_layers[cur_step + 1](self.avg_pool(x)))\n",
    "        out = self.avg_pool(self.prog_blocks[cur_step](out))\n",
    "\n",
    "        # the fade_in is done first between the downscaled and the input\n",
    "        # this is opposite from the generator\n",
    "        out = self.fade_in(alpha, downscaled, out)\n",
    "\n",
    "        for step in range(cur_step + 1, len(self.prog_blocks)):\n",
    "            out = self.prog_blocks[step](out)\n",
    "            out = self.avg_pool(out)\n",
    "\n",
    "        out = self.minibatch_std(out)\n",
    "        return self.final_block(out).view(out.shape[0], -1)"
   ]
  },
  {
   "cell_type": "code",
   "execution_count": 15,
   "id": "5f0037e9",
   "metadata": {
    "execution": {
     "iopub.execute_input": "2024-09-23T15:55:56.670488Z",
     "iopub.status.busy": "2024-09-23T15:55:56.670201Z",
     "iopub.status.idle": "2024-09-23T15:55:56.678034Z",
     "shell.execute_reply": "2024-09-23T15:55:56.677217Z"
    },
    "id": "Enyl3T-CJwGX",
    "papermill": {
     "duration": 0.017067,
     "end_time": "2024-09-23T15:55:56.679848",
     "exception": false,
     "start_time": "2024-09-23T15:55:56.662781",
     "status": "completed"
    },
    "tags": []
   },
   "outputs": [],
   "source": [
    "class GenBlock(nn.Module):\n",
    "    def __init__(self, in_channels, out_channels, w_dim):\n",
    "        super(GenBlock, self).__init__()\n",
    "        self.conv1 = WSConv2d(in_channels, out_channels)\n",
    "        self.conv2 = WSConv2d(out_channels, out_channels)\n",
    "        self.leaky = nn.LeakyReLU(0.2, inplace=True)\n",
    "        self.inject_noise1 = InjectNoise(out_channels)\n",
    "        self.inject_noise2 = InjectNoise(out_channels)\n",
    "        self.adain1 = AdaIN(out_channels, w_dim)\n",
    "        self.adain2 = AdaIN(out_channels, w_dim)\n",
    "\n",
    "    def forward(self, x, w):\n",
    "        x = self.adain1(self.leaky(self.inject_noise1(self.conv1(x))), w)\n",
    "        x = self.adain2(self.leaky(self.inject_noise2(self.conv2(x))), w)\n",
    "        return x"
   ]
  },
  {
   "cell_type": "code",
   "execution_count": 16,
   "id": "fab777aa",
   "metadata": {
    "execution": {
     "iopub.execute_input": "2024-09-23T15:55:56.695293Z",
     "iopub.status.busy": "2024-09-23T15:55:56.695017Z",
     "iopub.status.idle": "2024-09-23T15:55:56.707626Z",
     "shell.execute_reply": "2024-09-23T15:55:56.706792Z"
    },
    "id": "853r8HP0JwEr",
    "papermill": {
     "duration": 0.021892,
     "end_time": "2024-09-23T15:55:56.709358",
     "exception": false,
     "start_time": "2024-09-23T15:55:56.687466",
     "status": "completed"
    },
    "tags": []
   },
   "outputs": [],
   "source": [
    "class Generator(nn.Module):\n",
    "    def __init__(self, z_dim, w_dim, in_channels, img_channels=3):\n",
    "        super(Generator, self).__init__()\n",
    "        self.starting_constant = nn.Parameter(torch.ones((1, in_channels, 4, 4)))\n",
    "        self.map = MappingNetwork(z_dim, w_dim)\n",
    "        self.initial_adain1 = AdaIN(in_channels, w_dim)\n",
    "        self.initial_adain2 = AdaIN(in_channels, w_dim)\n",
    "        self.initial_noise1 = InjectNoise(in_channels)\n",
    "        self.initial_noise2 = InjectNoise(in_channels)\n",
    "        self.initial_conv = nn.Conv2d(in_channels, in_channels, kernel_size=3, stride=1, padding=1)\n",
    "        self.leaky = nn.LeakyReLU(0.2, inplace=True)\n",
    "\n",
    "        self.initial_rgb = WSConv2d(\n",
    "            in_channels, img_channels, kernel_size=1, stride=1, padding=0\n",
    "        )\n",
    "        self.prog_blocks, self.rgb_layers = (\n",
    "            nn.ModuleList([]),\n",
    "            nn.ModuleList([self.initial_rgb]),\n",
    "        )\n",
    "\n",
    "        for i in range(len(factors) - 1):  # -1 to prevent index error because of factors[i+1]\n",
    "            conv_in_c = int(in_channels * factors[i])\n",
    "            conv_out_c = int(in_channels * factors[i + 1])\n",
    "            self.prog_blocks.append(GenBlock(conv_in_c, conv_out_c, w_dim))\n",
    "            self.rgb_layers.append(\n",
    "                WSConv2d(conv_out_c, img_channels, kernel_size=1, stride=1, padding=0)\n",
    "            )\n",
    "\n",
    "    def fade_in(self, alpha, upscaled, generated):\n",
    "        # alpha should be scalar within [0, 1], and upscale.shape == generated.shape\n",
    "        return torch.tanh(alpha * generated + (1 - alpha) * upscaled)\n",
    "\n",
    "    def forward(self, noise, alpha, steps):\n",
    "        w = self.map(noise)\n",
    "        x = self.initial_adain1(self.initial_noise1(self.starting_constant), w)\n",
    "        x = self.initial_conv(x)\n",
    "        out = self.initial_adain2(self.leaky(self.initial_noise2(x)), w)\n",
    "\n",
    "        if steps == 0:\n",
    "            return self.initial_rgb(x)\n",
    "\n",
    "        for step in range(steps):\n",
    "            upscaled = F.interpolate(out, scale_factor=2, mode=\"bilinear\")\n",
    "            out = self.prog_blocks[step](upscaled, w)\n",
    "\n",
    "        # The number of channels in upscale will stay the same, while\n",
    "        # out which has moved through prog_blocks might change. To ensure\n",
    "        # we can convert both to rgb we use different rgb_layers\n",
    "        # (steps-1) and steps for upscaled, out respectively\n",
    "        final_upscaled = self.rgb_layers[steps - 1](upscaled)\n",
    "        final_out = self.rgb_layers[steps](out)\n",
    "        return self.fade_in(alpha, final_upscaled, final_out)\n",
    "\n"
   ]
  },
  {
   "cell_type": "code",
   "execution_count": 17,
   "id": "314fe39e",
   "metadata": {
    "execution": {
     "iopub.execute_input": "2024-09-23T15:55:56.724004Z",
     "iopub.status.busy": "2024-09-23T15:55:56.723504Z",
     "iopub.status.idle": "2024-09-23T15:55:56.730014Z",
     "shell.execute_reply": "2024-09-23T15:55:56.729142Z"
    },
    "id": "vlXWwy-xJwC_",
    "papermill": {
     "duration": 0.016222,
     "end_time": "2024-09-23T15:55:56.732356",
     "exception": false,
     "start_time": "2024-09-23T15:55:56.716134",
     "status": "completed"
    },
    "tags": []
   },
   "outputs": [],
   "source": [
    "import os\n",
    "import torch\n",
    "from torchvision.utils import save_image\n",
    "\n",
    "def generate_examples(gen, steps, n=100):\n",
    "    gen.eval()\n",
    "    alpha = 1.0\n",
    "    # Use the writable directory in Kaggle\n",
    "    save_dir = f'/kaggle/working/saved_examples/step{steps}'\n",
    "    os.makedirs(save_dir, exist_ok=True)\n",
    "\n",
    "    for i in range(n):\n",
    "        with torch.no_grad():\n",
    "            noise = torch.randn(1, Z_DIM).to(DEVICE)\n",
    "            img = gen(noise, alpha, steps)\n",
    "            save_image(img * 0.5 + 0.5, f\"{save_dir}/img_{i}.png\")\n",
    "\n",
    "    gen.train()\n"
   ]
  },
  {
   "cell_type": "code",
   "execution_count": 18,
   "id": "ded1fd29",
   "metadata": {
    "execution": {
     "iopub.execute_input": "2024-09-23T15:55:56.747202Z",
     "iopub.status.busy": "2024-09-23T15:55:56.746905Z",
     "iopub.status.idle": "2024-09-23T15:55:56.753863Z",
     "shell.execute_reply": "2024-09-23T15:55:56.753042Z"
    },
    "id": "1Y3WMiKqJwBy",
    "papermill": {
     "duration": 0.016264,
     "end_time": "2024-09-23T15:55:56.755669",
     "exception": false,
     "start_time": "2024-09-23T15:55:56.739405",
     "status": "completed"
    },
    "tags": []
   },
   "outputs": [],
   "source": [
    "def gradient_penalty(critic, real, fake, alpha, train_step, device=\"cpu\"):\n",
    "    BATCH_SIZE, C, H, W = real.shape\n",
    "    beta = torch.rand((BATCH_SIZE, 1, 1, 1)).repeat(1, C, H, W).to(device)\n",
    "    interpolated_images = real * beta + fake.detach() * (1 - beta)\n",
    "    interpolated_images.requires_grad_(True)\n",
    "\n",
    "    # Calculate critic scores\n",
    "    mixed_scores = critic(interpolated_images, alpha, train_step)\n",
    "\n",
    "    # Take the gradient of the scores with respect to the images\n",
    "    gradient = torch.autograd.grad(\n",
    "        inputs=interpolated_images,\n",
    "        outputs=mixed_scores,\n",
    "        grad_outputs=torch.ones_like(mixed_scores),\n",
    "        create_graph=True,\n",
    "        retain_graph=True,\n",
    "    )[0]\n",
    "    gradient = gradient.view(gradient.shape[0], -1)\n",
    "    gradient_norm = gradient.norm(2, dim=1)\n",
    "    gradient_penalty = torch.mean((gradient_norm - 1) ** 2)\n",
    "    return gradient_penalty"
   ]
  },
  {
   "cell_type": "code",
   "execution_count": 19,
   "id": "f48e1e24",
   "metadata": {
    "execution": {
     "iopub.execute_input": "2024-09-23T15:55:56.770757Z",
     "iopub.status.busy": "2024-09-23T15:55:56.770485Z",
     "iopub.status.idle": "2024-09-23T15:55:56.779737Z",
     "shell.execute_reply": "2024-09-23T15:55:56.778973Z"
    },
    "id": "L1bYJGjr0k4J",
    "papermill": {
     "duration": 0.018863,
     "end_time": "2024-09-23T15:55:56.781537",
     "exception": false,
     "start_time": "2024-09-23T15:55:56.762674",
     "status": "completed"
    },
    "tags": []
   },
   "outputs": [],
   "source": [
    "def train_fn(\n",
    "    critic,\n",
    "    gen,\n",
    "    loader,\n",
    "    dataset,\n",
    "    step,\n",
    "    alpha,\n",
    "    opt_critic,\n",
    "    opt_gen,\n",
    "):\n",
    "    loop = tqdm(loader, leave=True)\n",
    "\n",
    "    for batch_idx, data in enumerate(loop):\n",
    "        real = data.to(DEVICE)\n",
    "        cur_batch_size = real.shape[0]\n",
    "\n",
    "\n",
    "        noise = torch.randn(cur_batch_size, Z_DIM).to(DEVICE)\n",
    "\n",
    "        fake = gen(noise, alpha, step)\n",
    "        critic_real = critic(real, alpha, step)\n",
    "        critic_fake = critic(fake.detach(), alpha, step)\n",
    "        gp = gradient_penalty(critic, real, fake, alpha, step, device=DEVICE)\n",
    "        loss_critic = (\n",
    "            -(torch.mean(critic_real) - torch.mean(critic_fake))\n",
    "            + LAMBDA_GP * gp\n",
    "            + (0.001 * torch.mean(critic_real ** 2))\n",
    "        )\n",
    "\n",
    "        # Fixed indentation here\n",
    "        critic.zero_grad()\n",
    "        loss_critic.backward()\n",
    "        opt_critic.step()\n",
    "\n",
    "        gen_fake = critic(fake, alpha, step)\n",
    "        loss_gen = -torch.mean(gen_fake)\n",
    "\n",
    "        gen.zero_grad()\n",
    "        loss_gen.backward()\n",
    "        opt_gen.step()\n",
    "\n",
    "        # Update alpha and ensure less than 1\n",
    "        alpha += cur_batch_size / (\n",
    "            (PROGRESSIVE_EPOCHS[step] * 0.5) * len(dataset)\n",
    "        )\n",
    "        alpha = min(alpha, 1)\n",
    "\n",
    "        loop.set_postfix(\n",
    "            gp=gp.item(),\n",
    "            loss_critic=loss_critic.item(),\n",
    "        )\n",
    "\n",
    "\n",
    "    return alpha"
   ]
  },
  {
   "cell_type": "code",
   "execution_count": 20,
   "id": "c24bde08",
   "metadata": {
    "execution": {
     "iopub.execute_input": "2024-09-23T15:55:56.796535Z",
     "iopub.status.busy": "2024-09-23T15:55:56.796187Z",
     "iopub.status.idle": "2024-09-23T15:55:56.806122Z",
     "shell.execute_reply": "2024-09-23T15:55:56.805270Z"
    },
    "id": "Bt1d8xK75qv5",
    "papermill": {
     "duration": 0.019481,
     "end_time": "2024-09-23T15:55:56.808019",
     "exception": false,
     "start_time": "2024-09-23T15:55:56.788538",
     "status": "completed"
    },
    "tags": []
   },
   "outputs": [],
   "source": [
    "import os\n",
    "from PIL import Image\n",
    "from torch.utils.data import Dataset, DataLoader\n",
    "import torchvision.transforms as transforms\n",
    "\n",
    "class FlatImageDataset(Dataset):\n",
    "    def __init__(self, root_dir, transform=None):\n",
    "        \"\"\"\n",
    "        Args:\n",
    "            root_dir (str): Directory with all the images.\n",
    "            transform (callable, optional): Optional transform to be applied on an image.\n",
    "        \"\"\"\n",
    "        self.root_dir = root_dir\n",
    "        self.transform = transform\n",
    "        self.image_paths = [os.path.join(root_dir, f) for f in os.listdir(root_dir) if f.lower().endswith(('.png', '.jpg', '.jpeg'))]\n",
    "\n",
    "    def __len__(self):\n",
    "        return len(self.image_paths)\n",
    "\n",
    "    def __getitem__(self, idx):\n",
    "        img_path = self.image_paths[idx]\n",
    "        image = Image.open(img_path).convert(\"RGB\")\n",
    "        if self.transform:\n",
    "            image = self.transform(image)\n",
    "        return image\n",
    "\n",
    "def get_transforms(image_size):\n",
    "    \"\"\"\n",
    "    Create a set of transformations for preprocessing images.\n",
    "\n",
    "    Args:\n",
    "        image_size (int): Size to resize the images.\n",
    "\n",
    "    Returns:\n",
    "        transforms.Compose: Composed transformations.\n",
    "    \"\"\"\n",
    "    return transforms.Compose([\n",
    "        transforms.Resize((image_size, image_size)),\n",
    "        transforms.ToTensor(),\n",
    "        transforms.RandomHorizontalFlip(p=0.5),\n",
    "        transforms.Normalize([0.5] * 3, [0.5] * 3),\n",
    "    ])\n",
    "\n",
    "def get_loader(image_size, root_dir, batch_size):\n",
    "    \"\"\"\n",
    "    Create a DataLoader for the dataset.\n",
    "\n",
    "    Args:\n",
    "        image_size (int): Size to resize the images.\n",
    "        root_dir (str): Directory containing the images.\n",
    "        batch_size (int): Number of images per batch.\n",
    "\n",
    "    Returns:\n",
    "        DataLoader: DataLoader for the dataset.\n",
    "        FlatImageDataset: Instance of the custom dataset class.\n",
    "    \"\"\"\n",
    "    transform = get_transforms(image_size)\n",
    "    dataset = FlatImageDataset(root_dir=root_dir, transform=transform)\n",
    "    loader = DataLoader(dataset, batch_size=batch_size, shuffle=True)\n",
    "    return loader, dataset\n"
   ]
  },
  {
   "cell_type": "code",
   "execution_count": 21,
   "id": "ce492820",
   "metadata": {
    "execution": {
     "iopub.execute_input": "2024-09-23T15:55:56.823067Z",
     "iopub.status.busy": "2024-09-23T15:55:56.822534Z",
     "iopub.status.idle": "2024-09-24T03:41:55.285175Z",
     "shell.execute_reply": "2024-09-24T03:41:55.284304Z"
    },
    "id": "llC3pqsbKNWi",
    "outputId": "dd0e25ba-83dd-451e-8c5d-0a3bc006902a",
    "papermill": {
     "duration": 42358.472777,
     "end_time": "2024-09-24T03:41:55.287529",
     "exception": false,
     "start_time": "2024-09-23T15:55:56.814752",
     "status": "completed"
    },
    "tags": []
   },
   "outputs": [
    {
     "name": "stdout",
     "output_type": "stream",
     "text": [
      "Current image size: 8\n",
      "Epoch [1/30]\n"
     ]
    },
    {
     "name": "stderr",
     "output_type": "stream",
     "text": [
      "100%|██████████| 1015/1015 [02:10<00:00,  7.79it/s, gp=0.0389, loss_critic=-1.76]\n"
     ]
    },
    {
     "name": "stdout",
     "output_type": "stream",
     "text": [
      "Epoch [2/30]\n"
     ]
    },
    {
     "name": "stderr",
     "output_type": "stream",
     "text": [
      "100%|██████████| 1015/1015 [00:54<00:00, 18.61it/s, gp=0.0242, loss_critic=-1.23]\n"
     ]
    },
    {
     "name": "stdout",
     "output_type": "stream",
     "text": [
      "Epoch [3/30]\n"
     ]
    },
    {
     "name": "stderr",
     "output_type": "stream",
     "text": [
      "100%|██████████| 1015/1015 [00:53<00:00, 19.06it/s, gp=0.0188, loss_critic=-1.39]\n"
     ]
    },
    {
     "name": "stdout",
     "output_type": "stream",
     "text": [
      "Epoch [4/30]\n"
     ]
    },
    {
     "name": "stderr",
     "output_type": "stream",
     "text": [
      "100%|██████████| 1015/1015 [00:54<00:00, 18.74it/s, gp=0.0157, loss_critic=-1.11]\n"
     ]
    },
    {
     "name": "stdout",
     "output_type": "stream",
     "text": [
      "Epoch [5/30]\n"
     ]
    },
    {
     "name": "stderr",
     "output_type": "stream",
     "text": [
      "100%|██████████| 1015/1015 [00:54<00:00, 18.68it/s, gp=0.0039, loss_critic=-0.553]\n"
     ]
    },
    {
     "name": "stdout",
     "output_type": "stream",
     "text": [
      "Epoch [6/30]\n"
     ]
    },
    {
     "name": "stderr",
     "output_type": "stream",
     "text": [
      "100%|██████████| 1015/1015 [00:54<00:00, 18.73it/s, gp=0.0165, loss_critic=-0.672]\n"
     ]
    },
    {
     "name": "stdout",
     "output_type": "stream",
     "text": [
      "Epoch [7/30]\n"
     ]
    },
    {
     "name": "stderr",
     "output_type": "stream",
     "text": [
      "100%|██████████| 1015/1015 [00:54<00:00, 18.52it/s, gp=0.0162, loss_critic=-0.299]\n"
     ]
    },
    {
     "name": "stdout",
     "output_type": "stream",
     "text": [
      "Epoch [8/30]\n"
     ]
    },
    {
     "name": "stderr",
     "output_type": "stream",
     "text": [
      "100%|██████████| 1015/1015 [00:53<00:00, 18.81it/s, gp=0.0052, loss_critic=-0.195]\n"
     ]
    },
    {
     "name": "stdout",
     "output_type": "stream",
     "text": [
      "Epoch [9/30]\n"
     ]
    },
    {
     "name": "stderr",
     "output_type": "stream",
     "text": [
      "100%|██████████| 1015/1015 [00:53<00:00, 19.02it/s, gp=0.0133, loss_critic=-0.603]\n"
     ]
    },
    {
     "name": "stdout",
     "output_type": "stream",
     "text": [
      "Epoch [10/30]\n"
     ]
    },
    {
     "name": "stderr",
     "output_type": "stream",
     "text": [
      "100%|██████████| 1015/1015 [00:54<00:00, 18.76it/s, gp=0.00963, loss_critic=0.237]\n"
     ]
    },
    {
     "name": "stdout",
     "output_type": "stream",
     "text": [
      "Epoch [11/30]\n"
     ]
    },
    {
     "name": "stderr",
     "output_type": "stream",
     "text": [
      "100%|██████████| 1015/1015 [00:54<00:00, 18.65it/s, gp=0.00183, loss_critic=-0.353]\n"
     ]
    },
    {
     "name": "stdout",
     "output_type": "stream",
     "text": [
      "Epoch [12/30]\n"
     ]
    },
    {
     "name": "stderr",
     "output_type": "stream",
     "text": [
      "100%|██████████| 1015/1015 [00:54<00:00, 18.64it/s, gp=0.00494, loss_critic=-0.366]\n"
     ]
    },
    {
     "name": "stdout",
     "output_type": "stream",
     "text": [
      "Epoch [13/30]\n"
     ]
    },
    {
     "name": "stderr",
     "output_type": "stream",
     "text": [
      "100%|██████████| 1015/1015 [00:55<00:00, 18.40it/s, gp=0.0109, loss_critic=-0.439]\n"
     ]
    },
    {
     "name": "stdout",
     "output_type": "stream",
     "text": [
      "Epoch [14/30]\n"
     ]
    },
    {
     "name": "stderr",
     "output_type": "stream",
     "text": [
      "100%|██████████| 1015/1015 [00:54<00:00, 18.70it/s, gp=0.00569, loss_critic=-0.194]\n"
     ]
    },
    {
     "name": "stdout",
     "output_type": "stream",
     "text": [
      "Epoch [15/30]\n"
     ]
    },
    {
     "name": "stderr",
     "output_type": "stream",
     "text": [
      "100%|██████████| 1015/1015 [00:54<00:00, 18.58it/s, gp=0.00686, loss_critic=-0.267]\n"
     ]
    },
    {
     "name": "stdout",
     "output_type": "stream",
     "text": [
      "Epoch [16/30]\n"
     ]
    },
    {
     "name": "stderr",
     "output_type": "stream",
     "text": [
      "100%|██████████| 1015/1015 [00:54<00:00, 18.60it/s, gp=0.00291, loss_critic=-0.256]\n"
     ]
    },
    {
     "name": "stdout",
     "output_type": "stream",
     "text": [
      "Epoch [17/30]\n"
     ]
    },
    {
     "name": "stderr",
     "output_type": "stream",
     "text": [
      "100%|██████████| 1015/1015 [00:53<00:00, 18.83it/s, gp=0.00887, loss_critic=-0.198]\n"
     ]
    },
    {
     "name": "stdout",
     "output_type": "stream",
     "text": [
      "Epoch [18/30]\n"
     ]
    },
    {
     "name": "stderr",
     "output_type": "stream",
     "text": [
      "100%|██████████| 1015/1015 [00:53<00:00, 18.88it/s, gp=0.00761, loss_critic=-0.212]\n"
     ]
    },
    {
     "name": "stdout",
     "output_type": "stream",
     "text": [
      "Epoch [19/30]\n"
     ]
    },
    {
     "name": "stderr",
     "output_type": "stream",
     "text": [
      "100%|██████████| 1015/1015 [00:53<00:00, 19.00it/s, gp=0.00484, loss_critic=-0.138]\n"
     ]
    },
    {
     "name": "stdout",
     "output_type": "stream",
     "text": [
      "Epoch [20/30]\n"
     ]
    },
    {
     "name": "stderr",
     "output_type": "stream",
     "text": [
      "100%|██████████| 1015/1015 [00:53<00:00, 19.03it/s, gp=0.00441, loss_critic=0.0241]\n"
     ]
    },
    {
     "name": "stdout",
     "output_type": "stream",
     "text": [
      "Epoch [21/30]\n"
     ]
    },
    {
     "name": "stderr",
     "output_type": "stream",
     "text": [
      "100%|██████████| 1015/1015 [00:54<00:00, 18.74it/s, gp=0.00531, loss_critic=-0.0399]\n"
     ]
    },
    {
     "name": "stdout",
     "output_type": "stream",
     "text": [
      "Epoch [22/30]\n"
     ]
    },
    {
     "name": "stderr",
     "output_type": "stream",
     "text": [
      "100%|██████████| 1015/1015 [00:53<00:00, 18.83it/s, gp=0.00766, loss_critic=-0.254]\n"
     ]
    },
    {
     "name": "stdout",
     "output_type": "stream",
     "text": [
      "Epoch [23/30]\n"
     ]
    },
    {
     "name": "stderr",
     "output_type": "stream",
     "text": [
      "100%|██████████| 1015/1015 [00:54<00:00, 18.78it/s, gp=0.00405, loss_critic=-0.113]\n"
     ]
    },
    {
     "name": "stdout",
     "output_type": "stream",
     "text": [
      "Epoch [24/30]\n"
     ]
    },
    {
     "name": "stderr",
     "output_type": "stream",
     "text": [
      "100%|██████████| 1015/1015 [00:54<00:00, 18.70it/s, gp=0.00833, loss_critic=0.205]\n"
     ]
    },
    {
     "name": "stdout",
     "output_type": "stream",
     "text": [
      "Epoch [25/30]\n"
     ]
    },
    {
     "name": "stderr",
     "output_type": "stream",
     "text": [
      "100%|██████████| 1015/1015 [00:55<00:00, 18.36it/s, gp=0.00667, loss_critic=-0.246]\n"
     ]
    },
    {
     "name": "stdout",
     "output_type": "stream",
     "text": [
      "Epoch [26/30]\n"
     ]
    },
    {
     "name": "stderr",
     "output_type": "stream",
     "text": [
      "100%|██████████| 1015/1015 [00:54<00:00, 18.69it/s, gp=0.00298, loss_critic=0.183]\n"
     ]
    },
    {
     "name": "stdout",
     "output_type": "stream",
     "text": [
      "Epoch [27/30]\n"
     ]
    },
    {
     "name": "stderr",
     "output_type": "stream",
     "text": [
      "100%|██████████| 1015/1015 [00:54<00:00, 18.52it/s, gp=0.00467, loss_critic=-0.127]\n"
     ]
    },
    {
     "name": "stdout",
     "output_type": "stream",
     "text": [
      "Epoch [28/30]\n"
     ]
    },
    {
     "name": "stderr",
     "output_type": "stream",
     "text": [
      "100%|██████████| 1015/1015 [00:55<00:00, 18.26it/s, gp=0.00198, loss_critic=-0.122]\n"
     ]
    },
    {
     "name": "stdout",
     "output_type": "stream",
     "text": [
      "Epoch [29/30]\n"
     ]
    },
    {
     "name": "stderr",
     "output_type": "stream",
     "text": [
      "100%|██████████| 1015/1015 [00:54<00:00, 18.71it/s, gp=0.00174, loss_critic=-0.189]\n"
     ]
    },
    {
     "name": "stdout",
     "output_type": "stream",
     "text": [
      "Epoch [30/30]\n"
     ]
    },
    {
     "name": "stderr",
     "output_type": "stream",
     "text": [
      "100%|██████████| 1015/1015 [00:54<00:00, 18.78it/s, gp=0.00587, loss_critic=-0.06]\n"
     ]
    },
    {
     "name": "stdout",
     "output_type": "stream",
     "text": [
      "Current image size: 16\n",
      "Epoch [1/30]\n"
     ]
    },
    {
     "name": "stderr",
     "output_type": "stream",
     "text": [
      "100%|██████████| 1015/1015 [01:11<00:00, 14.12it/s, gp=0.00732, loss_critic=0.00547]\n"
     ]
    },
    {
     "name": "stdout",
     "output_type": "stream",
     "text": [
      "Epoch [2/30]\n"
     ]
    },
    {
     "name": "stderr",
     "output_type": "stream",
     "text": [
      "100%|██████████| 1015/1015 [01:12<00:00, 14.05it/s, gp=0.0054, loss_critic=0.54]\n"
     ]
    },
    {
     "name": "stdout",
     "output_type": "stream",
     "text": [
      "Epoch [3/30]\n"
     ]
    },
    {
     "name": "stderr",
     "output_type": "stream",
     "text": [
      "100%|██████████| 1015/1015 [01:12<00:00, 14.04it/s, gp=0.00463, loss_critic=0.022]\n"
     ]
    },
    {
     "name": "stdout",
     "output_type": "stream",
     "text": [
      "Epoch [4/30]\n"
     ]
    },
    {
     "name": "stderr",
     "output_type": "stream",
     "text": [
      "100%|██████████| 1015/1015 [01:12<00:00, 14.00it/s, gp=0.0023, loss_critic=-0.0822]\n"
     ]
    },
    {
     "name": "stdout",
     "output_type": "stream",
     "text": [
      "Epoch [5/30]\n"
     ]
    },
    {
     "name": "stderr",
     "output_type": "stream",
     "text": [
      "100%|██████████| 1015/1015 [01:12<00:00, 14.03it/s, gp=0.00524, loss_critic=-0.352]\n"
     ]
    },
    {
     "name": "stdout",
     "output_type": "stream",
     "text": [
      "Epoch [6/30]\n"
     ]
    },
    {
     "name": "stderr",
     "output_type": "stream",
     "text": [
      "100%|██████████| 1015/1015 [01:11<00:00, 14.12it/s, gp=0.00846, loss_critic=-0.0522]\n"
     ]
    },
    {
     "name": "stdout",
     "output_type": "stream",
     "text": [
      "Epoch [7/30]\n"
     ]
    },
    {
     "name": "stderr",
     "output_type": "stream",
     "text": [
      "100%|██████████| 1015/1015 [01:13<00:00, 13.89it/s, gp=0.00208, loss_critic=-0.38]\n"
     ]
    },
    {
     "name": "stdout",
     "output_type": "stream",
     "text": [
      "Epoch [8/30]\n"
     ]
    },
    {
     "name": "stderr",
     "output_type": "stream",
     "text": [
      "100%|██████████| 1015/1015 [01:12<00:00, 14.05it/s, gp=0.00318, loss_critic=-0.323]\n"
     ]
    },
    {
     "name": "stdout",
     "output_type": "stream",
     "text": [
      "Epoch [9/30]\n"
     ]
    },
    {
     "name": "stderr",
     "output_type": "stream",
     "text": [
      "100%|██████████| 1015/1015 [01:11<00:00, 14.16it/s, gp=0.0044, loss_critic=-0.0156]\n"
     ]
    },
    {
     "name": "stdout",
     "output_type": "stream",
     "text": [
      "Epoch [10/30]\n"
     ]
    },
    {
     "name": "stderr",
     "output_type": "stream",
     "text": [
      "100%|██████████| 1015/1015 [01:13<00:00, 13.78it/s, gp=0.0086, loss_critic=0.0218]\n"
     ]
    },
    {
     "name": "stdout",
     "output_type": "stream",
     "text": [
      "Epoch [11/30]\n"
     ]
    },
    {
     "name": "stderr",
     "output_type": "stream",
     "text": [
      "100%|██████████| 1015/1015 [01:12<00:00, 14.00it/s, gp=0.00262, loss_critic=-0.707]\n"
     ]
    },
    {
     "name": "stdout",
     "output_type": "stream",
     "text": [
      "Epoch [12/30]\n"
     ]
    },
    {
     "name": "stderr",
     "output_type": "stream",
     "text": [
      "100%|██████████| 1015/1015 [01:12<00:00, 14.04it/s, gp=0.00334, loss_critic=-0.0352]\n"
     ]
    },
    {
     "name": "stdout",
     "output_type": "stream",
     "text": [
      "Epoch [13/30]\n"
     ]
    },
    {
     "name": "stderr",
     "output_type": "stream",
     "text": [
      "100%|██████████| 1015/1015 [01:12<00:00, 14.07it/s, gp=0.00229, loss_critic=0.0717]\n"
     ]
    },
    {
     "name": "stdout",
     "output_type": "stream",
     "text": [
      "Epoch [14/30]\n"
     ]
    },
    {
     "name": "stderr",
     "output_type": "stream",
     "text": [
      "100%|██████████| 1015/1015 [01:12<00:00, 14.07it/s, gp=0.00271, loss_critic=-0.801]\n"
     ]
    },
    {
     "name": "stdout",
     "output_type": "stream",
     "text": [
      "Epoch [15/30]\n"
     ]
    },
    {
     "name": "stderr",
     "output_type": "stream",
     "text": [
      "100%|██████████| 1015/1015 [01:12<00:00, 14.07it/s, gp=0.00448, loss_critic=-0.577]\n"
     ]
    },
    {
     "name": "stdout",
     "output_type": "stream",
     "text": [
      "Epoch [16/30]\n"
     ]
    },
    {
     "name": "stderr",
     "output_type": "stream",
     "text": [
      "100%|██████████| 1015/1015 [01:11<00:00, 14.10it/s, gp=0.00349, loss_critic=-0.175]\n"
     ]
    },
    {
     "name": "stdout",
     "output_type": "stream",
     "text": [
      "Epoch [17/30]\n"
     ]
    },
    {
     "name": "stderr",
     "output_type": "stream",
     "text": [
      "100%|██████████| 1015/1015 [01:12<00:00, 14.08it/s, gp=0.00394, loss_critic=-0.12]\n"
     ]
    },
    {
     "name": "stdout",
     "output_type": "stream",
     "text": [
      "Epoch [18/30]\n"
     ]
    },
    {
     "name": "stderr",
     "output_type": "stream",
     "text": [
      "100%|██████████| 1015/1015 [01:11<00:00, 14.15it/s, gp=0.0068, loss_critic=-1.25]\n"
     ]
    },
    {
     "name": "stdout",
     "output_type": "stream",
     "text": [
      "Epoch [19/30]\n"
     ]
    },
    {
     "name": "stderr",
     "output_type": "stream",
     "text": [
      "100%|██████████| 1015/1015 [01:12<00:00, 14.05it/s, gp=0.00304, loss_critic=-0.537]\n"
     ]
    },
    {
     "name": "stdout",
     "output_type": "stream",
     "text": [
      "Epoch [20/30]\n"
     ]
    },
    {
     "name": "stderr",
     "output_type": "stream",
     "text": [
      "100%|██████████| 1015/1015 [01:12<00:00, 13.98it/s, gp=0.00544, loss_critic=0.105]\n"
     ]
    },
    {
     "name": "stdout",
     "output_type": "stream",
     "text": [
      "Epoch [21/30]\n"
     ]
    },
    {
     "name": "stderr",
     "output_type": "stream",
     "text": [
      "100%|██████████| 1015/1015 [01:11<00:00, 14.21it/s, gp=0.00236, loss_critic=-0.0792]\n"
     ]
    },
    {
     "name": "stdout",
     "output_type": "stream",
     "text": [
      "Epoch [22/30]\n"
     ]
    },
    {
     "name": "stderr",
     "output_type": "stream",
     "text": [
      "100%|██████████| 1015/1015 [01:11<00:00, 14.14it/s, gp=0.00217, loss_critic=-0.643]\n"
     ]
    },
    {
     "name": "stdout",
     "output_type": "stream",
     "text": [
      "Epoch [23/30]\n"
     ]
    },
    {
     "name": "stderr",
     "output_type": "stream",
     "text": [
      "100%|██████████| 1015/1015 [01:11<00:00, 14.20it/s, gp=0.000967, loss_critic=-0.164]\n"
     ]
    },
    {
     "name": "stdout",
     "output_type": "stream",
     "text": [
      "Epoch [24/30]\n"
     ]
    },
    {
     "name": "stderr",
     "output_type": "stream",
     "text": [
      "100%|██████████| 1015/1015 [01:11<00:00, 14.17it/s, gp=0.00464, loss_critic=-0.145]\n"
     ]
    },
    {
     "name": "stdout",
     "output_type": "stream",
     "text": [
      "Epoch [25/30]\n"
     ]
    },
    {
     "name": "stderr",
     "output_type": "stream",
     "text": [
      "100%|██████████| 1015/1015 [01:11<00:00, 14.13it/s, gp=0.00324, loss_critic=0.109]\n"
     ]
    },
    {
     "name": "stdout",
     "output_type": "stream",
     "text": [
      "Epoch [26/30]\n"
     ]
    },
    {
     "name": "stderr",
     "output_type": "stream",
     "text": [
      "100%|██████████| 1015/1015 [01:13<00:00, 13.88it/s, gp=0.00205, loss_critic=-0.71]\n"
     ]
    },
    {
     "name": "stdout",
     "output_type": "stream",
     "text": [
      "Epoch [27/30]\n"
     ]
    },
    {
     "name": "stderr",
     "output_type": "stream",
     "text": [
      "100%|██████████| 1015/1015 [01:13<00:00, 13.85it/s, gp=0.00339, loss_critic=-0.189]\n"
     ]
    },
    {
     "name": "stdout",
     "output_type": "stream",
     "text": [
      "Epoch [28/30]\n"
     ]
    },
    {
     "name": "stderr",
     "output_type": "stream",
     "text": [
      "100%|██████████| 1015/1015 [01:11<00:00, 14.22it/s, gp=0.00215, loss_critic=-0.206]\n"
     ]
    },
    {
     "name": "stdout",
     "output_type": "stream",
     "text": [
      "Epoch [29/30]\n"
     ]
    },
    {
     "name": "stderr",
     "output_type": "stream",
     "text": [
      "100%|██████████| 1015/1015 [01:12<00:00, 14.08it/s, gp=0.0155, loss_critic=-0.126]\n"
     ]
    },
    {
     "name": "stdout",
     "output_type": "stream",
     "text": [
      "Epoch [30/30]\n"
     ]
    },
    {
     "name": "stderr",
     "output_type": "stream",
     "text": [
      "100%|██████████| 1015/1015 [01:11<00:00, 14.25it/s, gp=0.00433, loss_critic=-0.183]\n"
     ]
    },
    {
     "name": "stdout",
     "output_type": "stream",
     "text": [
      "Current image size: 32\n",
      "Epoch [1/30]\n"
     ]
    },
    {
     "name": "stderr",
     "output_type": "stream",
     "text": [
      "100%|██████████| 1015/1015 [02:36<00:00,  6.47it/s, gp=0.00185, loss_critic=0.631]\n"
     ]
    },
    {
     "name": "stdout",
     "output_type": "stream",
     "text": [
      "Epoch [2/30]\n"
     ]
    },
    {
     "name": "stderr",
     "output_type": "stream",
     "text": [
      "100%|██████████| 1015/1015 [02:39<00:00,  6.36it/s, gp=0.00707, loss_critic=-2.09]\n"
     ]
    },
    {
     "name": "stdout",
     "output_type": "stream",
     "text": [
      "Epoch [3/30]\n"
     ]
    },
    {
     "name": "stderr",
     "output_type": "stream",
     "text": [
      "100%|██████████| 1015/1015 [02:41<00:00,  6.28it/s, gp=0.00575, loss_critic=-0.017]\n"
     ]
    },
    {
     "name": "stdout",
     "output_type": "stream",
     "text": [
      "Epoch [4/30]\n"
     ]
    },
    {
     "name": "stderr",
     "output_type": "stream",
     "text": [
      "100%|██████████| 1015/1015 [02:39<00:00,  6.37it/s, gp=0.00338, loss_critic=-0.72]\n"
     ]
    },
    {
     "name": "stdout",
     "output_type": "stream",
     "text": [
      "Epoch [5/30]\n"
     ]
    },
    {
     "name": "stderr",
     "output_type": "stream",
     "text": [
      "100%|██████████| 1015/1015 [02:39<00:00,  6.36it/s, gp=0.00552, loss_critic=0.148]\n"
     ]
    },
    {
     "name": "stdout",
     "output_type": "stream",
     "text": [
      "Epoch [6/30]\n"
     ]
    },
    {
     "name": "stderr",
     "output_type": "stream",
     "text": [
      "100%|██████████| 1015/1015 [02:39<00:00,  6.38it/s, gp=0.00465, loss_critic=0.67]\n"
     ]
    },
    {
     "name": "stdout",
     "output_type": "stream",
     "text": [
      "Epoch [7/30]\n"
     ]
    },
    {
     "name": "stderr",
     "output_type": "stream",
     "text": [
      "100%|██████████| 1015/1015 [02:39<00:00,  6.35it/s, gp=0.01, loss_critic=-1.01]\n"
     ]
    },
    {
     "name": "stdout",
     "output_type": "stream",
     "text": [
      "Epoch [8/30]\n"
     ]
    },
    {
     "name": "stderr",
     "output_type": "stream",
     "text": [
      "100%|██████████| 1015/1015 [02:39<00:00,  6.36it/s, gp=0.0216, loss_critic=-1.31]\n"
     ]
    },
    {
     "name": "stdout",
     "output_type": "stream",
     "text": [
      "Epoch [9/30]\n"
     ]
    },
    {
     "name": "stderr",
     "output_type": "stream",
     "text": [
      "100%|██████████| 1015/1015 [02:37<00:00,  6.44it/s, gp=0.00407, loss_critic=0.721]\n"
     ]
    },
    {
     "name": "stdout",
     "output_type": "stream",
     "text": [
      "Epoch [10/30]\n"
     ]
    },
    {
     "name": "stderr",
     "output_type": "stream",
     "text": [
      "100%|██████████| 1015/1015 [02:37<00:00,  6.43it/s, gp=0.00883, loss_critic=-1.41]\n"
     ]
    },
    {
     "name": "stdout",
     "output_type": "stream",
     "text": [
      "Epoch [11/30]\n"
     ]
    },
    {
     "name": "stderr",
     "output_type": "stream",
     "text": [
      "100%|██████████| 1015/1015 [02:37<00:00,  6.44it/s, gp=0.00654, loss_critic=0.236]\n"
     ]
    },
    {
     "name": "stdout",
     "output_type": "stream",
     "text": [
      "Epoch [12/30]\n"
     ]
    },
    {
     "name": "stderr",
     "output_type": "stream",
     "text": [
      "100%|██████████| 1015/1015 [02:37<00:00,  6.44it/s, gp=0.0139, loss_critic=1.16]\n"
     ]
    },
    {
     "name": "stdout",
     "output_type": "stream",
     "text": [
      "Epoch [13/30]\n"
     ]
    },
    {
     "name": "stderr",
     "output_type": "stream",
     "text": [
      "100%|██████████| 1015/1015 [02:37<00:00,  6.44it/s, gp=0.0048, loss_critic=0.335]\n"
     ]
    },
    {
     "name": "stdout",
     "output_type": "stream",
     "text": [
      "Epoch [14/30]\n"
     ]
    },
    {
     "name": "stderr",
     "output_type": "stream",
     "text": [
      "100%|██████████| 1015/1015 [02:37<00:00,  6.46it/s, gp=0.00694, loss_critic=-0.319]\n"
     ]
    },
    {
     "name": "stdout",
     "output_type": "stream",
     "text": [
      "Epoch [15/30]\n"
     ]
    },
    {
     "name": "stderr",
     "output_type": "stream",
     "text": [
      "100%|██████████| 1015/1015 [02:36<00:00,  6.48it/s, gp=0.0147, loss_critic=-0.617]\n"
     ]
    },
    {
     "name": "stdout",
     "output_type": "stream",
     "text": [
      "Epoch [16/30]\n"
     ]
    },
    {
     "name": "stderr",
     "output_type": "stream",
     "text": [
      "100%|██████████| 1015/1015 [02:37<00:00,  6.45it/s, gp=0.00591, loss_critic=1.01]\n"
     ]
    },
    {
     "name": "stdout",
     "output_type": "stream",
     "text": [
      "Epoch [17/30]\n"
     ]
    },
    {
     "name": "stderr",
     "output_type": "stream",
     "text": [
      "100%|██████████| 1015/1015 [02:37<00:00,  6.44it/s, gp=0.0021, loss_critic=0.321]\n"
     ]
    },
    {
     "name": "stdout",
     "output_type": "stream",
     "text": [
      "Epoch [18/30]\n"
     ]
    },
    {
     "name": "stderr",
     "output_type": "stream",
     "text": [
      "100%|██████████| 1015/1015 [02:37<00:00,  6.44it/s, gp=0.00428, loss_critic=0.609]\n"
     ]
    },
    {
     "name": "stdout",
     "output_type": "stream",
     "text": [
      "Epoch [19/30]\n"
     ]
    },
    {
     "name": "stderr",
     "output_type": "stream",
     "text": [
      "100%|██████████| 1015/1015 [02:37<00:00,  6.43it/s, gp=0.00448, loss_critic=2.28]\n"
     ]
    },
    {
     "name": "stdout",
     "output_type": "stream",
     "text": [
      "Epoch [20/30]\n"
     ]
    },
    {
     "name": "stderr",
     "output_type": "stream",
     "text": [
      "100%|██████████| 1015/1015 [02:37<00:00,  6.44it/s, gp=0.00454, loss_critic=-0.998]\n"
     ]
    },
    {
     "name": "stdout",
     "output_type": "stream",
     "text": [
      "Epoch [21/30]\n"
     ]
    },
    {
     "name": "stderr",
     "output_type": "stream",
     "text": [
      "100%|██████████| 1015/1015 [02:37<00:00,  6.45it/s, gp=0.0053, loss_critic=0.591]\n"
     ]
    },
    {
     "name": "stdout",
     "output_type": "stream",
     "text": [
      "Epoch [22/30]\n"
     ]
    },
    {
     "name": "stderr",
     "output_type": "stream",
     "text": [
      "100%|██████████| 1015/1015 [02:37<00:00,  6.44it/s, gp=0.0104, loss_critic=-0.237]\n"
     ]
    },
    {
     "name": "stdout",
     "output_type": "stream",
     "text": [
      "Epoch [23/30]\n"
     ]
    },
    {
     "name": "stderr",
     "output_type": "stream",
     "text": [
      "100%|██████████| 1015/1015 [02:37<00:00,  6.46it/s, gp=0.0122, loss_critic=0.372]\n"
     ]
    },
    {
     "name": "stdout",
     "output_type": "stream",
     "text": [
      "Epoch [24/30]\n"
     ]
    },
    {
     "name": "stderr",
     "output_type": "stream",
     "text": [
      "100%|██████████| 1015/1015 [02:37<00:00,  6.46it/s, gp=0.00535, loss_critic=-0.547]\n"
     ]
    },
    {
     "name": "stdout",
     "output_type": "stream",
     "text": [
      "Epoch [25/30]\n"
     ]
    },
    {
     "name": "stderr",
     "output_type": "stream",
     "text": [
      "100%|██████████| 1015/1015 [02:36<00:00,  6.47it/s, gp=0.0101, loss_critic=0.466]\n"
     ]
    },
    {
     "name": "stdout",
     "output_type": "stream",
     "text": [
      "Epoch [26/30]\n"
     ]
    },
    {
     "name": "stderr",
     "output_type": "stream",
     "text": [
      "100%|██████████| 1015/1015 [02:36<00:00,  6.48it/s, gp=0.0056, loss_critic=-0.938]\n"
     ]
    },
    {
     "name": "stdout",
     "output_type": "stream",
     "text": [
      "Epoch [27/30]\n"
     ]
    },
    {
     "name": "stderr",
     "output_type": "stream",
     "text": [
      "100%|██████████| 1015/1015 [02:36<00:00,  6.51it/s, gp=0.00261, loss_critic=0.676]\n"
     ]
    },
    {
     "name": "stdout",
     "output_type": "stream",
     "text": [
      "Epoch [28/30]\n"
     ]
    },
    {
     "name": "stderr",
     "output_type": "stream",
     "text": [
      "100%|██████████| 1015/1015 [02:35<00:00,  6.51it/s, gp=0.00653, loss_critic=-0.206]\n"
     ]
    },
    {
     "name": "stdout",
     "output_type": "stream",
     "text": [
      "Epoch [29/30]\n"
     ]
    },
    {
     "name": "stderr",
     "output_type": "stream",
     "text": [
      "100%|██████████| 1015/1015 [02:36<00:00,  6.49it/s, gp=0.00227, loss_critic=-0.512]\n"
     ]
    },
    {
     "name": "stdout",
     "output_type": "stream",
     "text": [
      "Epoch [30/30]\n"
     ]
    },
    {
     "name": "stderr",
     "output_type": "stream",
     "text": [
      "100%|██████████| 1015/1015 [02:40<00:00,  6.33it/s, gp=0.00737, loss_critic=-0.388]\n"
     ]
    },
    {
     "name": "stdout",
     "output_type": "stream",
     "text": [
      "Current image size: 64\n",
      "Epoch [1/30]\n"
     ]
    },
    {
     "name": "stderr",
     "output_type": "stream",
     "text": [
      "100%|██████████| 1015/1015 [05:44<00:00,  2.94it/s, gp=0.023, loss_critic=-2.51]\n"
     ]
    },
    {
     "name": "stdout",
     "output_type": "stream",
     "text": [
      "Epoch [2/30]\n"
     ]
    },
    {
     "name": "stderr",
     "output_type": "stream",
     "text": [
      "100%|██████████| 1015/1015 [05:44<00:00,  2.94it/s, gp=0.00583, loss_critic=-2.58]\n"
     ]
    },
    {
     "name": "stdout",
     "output_type": "stream",
     "text": [
      "Epoch [3/30]\n"
     ]
    },
    {
     "name": "stderr",
     "output_type": "stream",
     "text": [
      "100%|██████████| 1015/1015 [05:44<00:00,  2.94it/s, gp=0.00417, loss_critic=-0.0811]\n"
     ]
    },
    {
     "name": "stdout",
     "output_type": "stream",
     "text": [
      "Epoch [4/30]\n"
     ]
    },
    {
     "name": "stderr",
     "output_type": "stream",
     "text": [
      "100%|██████████| 1015/1015 [05:44<00:00,  2.94it/s, gp=0.0201, loss_critic=-3.27]\n"
     ]
    },
    {
     "name": "stdout",
     "output_type": "stream",
     "text": [
      "Epoch [5/30]\n"
     ]
    },
    {
     "name": "stderr",
     "output_type": "stream",
     "text": [
      "100%|██████████| 1015/1015 [05:44<00:00,  2.94it/s, gp=0.012, loss_critic=-2.59]\n"
     ]
    },
    {
     "name": "stdout",
     "output_type": "stream",
     "text": [
      "Epoch [6/30]\n"
     ]
    },
    {
     "name": "stderr",
     "output_type": "stream",
     "text": [
      "100%|██████████| 1015/1015 [05:45<00:00,  2.94it/s, gp=0.0169, loss_critic=0.547]\n"
     ]
    },
    {
     "name": "stdout",
     "output_type": "stream",
     "text": [
      "Epoch [7/30]\n"
     ]
    },
    {
     "name": "stderr",
     "output_type": "stream",
     "text": [
      "100%|██████████| 1015/1015 [05:45<00:00,  2.94it/s, gp=0.00332, loss_critic=-0.419]\n"
     ]
    },
    {
     "name": "stdout",
     "output_type": "stream",
     "text": [
      "Epoch [8/30]\n"
     ]
    },
    {
     "name": "stderr",
     "output_type": "stream",
     "text": [
      "100%|██████████| 1015/1015 [05:45<00:00,  2.94it/s, gp=0.00401, loss_critic=0.307]\n"
     ]
    },
    {
     "name": "stdout",
     "output_type": "stream",
     "text": [
      "Epoch [9/30]\n"
     ]
    },
    {
     "name": "stderr",
     "output_type": "stream",
     "text": [
      "100%|██████████| 1015/1015 [05:44<00:00,  2.94it/s, gp=0.00355, loss_critic=-0.883]\n"
     ]
    },
    {
     "name": "stdout",
     "output_type": "stream",
     "text": [
      "Epoch [10/30]\n"
     ]
    },
    {
     "name": "stderr",
     "output_type": "stream",
     "text": [
      "100%|██████████| 1015/1015 [05:45<00:00,  2.94it/s, gp=0.00807, loss_critic=2.65]\n"
     ]
    },
    {
     "name": "stdout",
     "output_type": "stream",
     "text": [
      "Epoch [11/30]\n"
     ]
    },
    {
     "name": "stderr",
     "output_type": "stream",
     "text": [
      "100%|██████████| 1015/1015 [05:44<00:00,  2.95it/s, gp=0.00586, loss_critic=-0.93]\n"
     ]
    },
    {
     "name": "stdout",
     "output_type": "stream",
     "text": [
      "Epoch [12/30]\n"
     ]
    },
    {
     "name": "stderr",
     "output_type": "stream",
     "text": [
      "100%|██████████| 1015/1015 [05:45<00:00,  2.94it/s, gp=0.0103, loss_critic=-1.24]\n"
     ]
    },
    {
     "name": "stdout",
     "output_type": "stream",
     "text": [
      "Epoch [13/30]\n"
     ]
    },
    {
     "name": "stderr",
     "output_type": "stream",
     "text": [
      "100%|██████████| 1015/1015 [05:45<00:00,  2.94it/s, gp=0.02, loss_critic=-2.84]\n"
     ]
    },
    {
     "name": "stdout",
     "output_type": "stream",
     "text": [
      "Epoch [14/30]\n"
     ]
    },
    {
     "name": "stderr",
     "output_type": "stream",
     "text": [
      "100%|██████████| 1015/1015 [05:45<00:00,  2.94it/s, gp=0.0109, loss_critic=-1.85]\n"
     ]
    },
    {
     "name": "stdout",
     "output_type": "stream",
     "text": [
      "Epoch [15/30]\n"
     ]
    },
    {
     "name": "stderr",
     "output_type": "stream",
     "text": [
      "100%|██████████| 1015/1015 [05:46<00:00,  2.93it/s, gp=0.0277, loss_critic=1.3]\n"
     ]
    },
    {
     "name": "stdout",
     "output_type": "stream",
     "text": [
      "Epoch [16/30]\n"
     ]
    },
    {
     "name": "stderr",
     "output_type": "stream",
     "text": [
      "100%|██████████| 1015/1015 [05:46<00:00,  2.93it/s, gp=0.0243, loss_critic=-1.02]\n"
     ]
    },
    {
     "name": "stdout",
     "output_type": "stream",
     "text": [
      "Epoch [17/30]\n"
     ]
    },
    {
     "name": "stderr",
     "output_type": "stream",
     "text": [
      "100%|██████████| 1015/1015 [05:45<00:00,  2.93it/s, gp=0.00946, loss_critic=-1.1]\n"
     ]
    },
    {
     "name": "stdout",
     "output_type": "stream",
     "text": [
      "Epoch [18/30]\n"
     ]
    },
    {
     "name": "stderr",
     "output_type": "stream",
     "text": [
      "100%|██████████| 1015/1015 [05:46<00:00,  2.93it/s, gp=0.00684, loss_critic=-3.54]\n"
     ]
    },
    {
     "name": "stdout",
     "output_type": "stream",
     "text": [
      "Epoch [19/30]\n"
     ]
    },
    {
     "name": "stderr",
     "output_type": "stream",
     "text": [
      "100%|██████████| 1015/1015 [05:49<00:00,  2.90it/s, gp=0.00761, loss_critic=0.0569]\n"
     ]
    },
    {
     "name": "stdout",
     "output_type": "stream",
     "text": [
      "Epoch [20/30]\n"
     ]
    },
    {
     "name": "stderr",
     "output_type": "stream",
     "text": [
      "100%|██████████| 1015/1015 [05:47<00:00,  2.92it/s, gp=0.0106, loss_critic=-1.95]\n"
     ]
    },
    {
     "name": "stdout",
     "output_type": "stream",
     "text": [
      "Epoch [21/30]\n"
     ]
    },
    {
     "name": "stderr",
     "output_type": "stream",
     "text": [
      "100%|██████████| 1015/1015 [05:49<00:00,  2.91it/s, gp=0.0105, loss_critic=-0.644]\n"
     ]
    },
    {
     "name": "stdout",
     "output_type": "stream",
     "text": [
      "Epoch [22/30]\n"
     ]
    },
    {
     "name": "stderr",
     "output_type": "stream",
     "text": [
      "100%|██████████| 1015/1015 [05:50<00:00,  2.90it/s, gp=0.123, loss_critic=-2.85]\n"
     ]
    },
    {
     "name": "stdout",
     "output_type": "stream",
     "text": [
      "Epoch [23/30]\n"
     ]
    },
    {
     "name": "stderr",
     "output_type": "stream",
     "text": [
      "100%|██████████| 1015/1015 [05:54<00:00,  2.87it/s, gp=0.00599, loss_critic=1.09]\n"
     ]
    },
    {
     "name": "stdout",
     "output_type": "stream",
     "text": [
      "Epoch [24/30]\n"
     ]
    },
    {
     "name": "stderr",
     "output_type": "stream",
     "text": [
      "100%|██████████| 1015/1015 [05:53<00:00,  2.87it/s, gp=0.0128, loss_critic=-2.58]\n"
     ]
    },
    {
     "name": "stdout",
     "output_type": "stream",
     "text": [
      "Epoch [25/30]\n"
     ]
    },
    {
     "name": "stderr",
     "output_type": "stream",
     "text": [
      "100%|██████████| 1015/1015 [05:53<00:00,  2.87it/s, gp=0.00734, loss_critic=-0.566]\n"
     ]
    },
    {
     "name": "stdout",
     "output_type": "stream",
     "text": [
      "Epoch [26/30]\n"
     ]
    },
    {
     "name": "stderr",
     "output_type": "stream",
     "text": [
      "100%|██████████| 1015/1015 [05:49<00:00,  2.91it/s, gp=0.0167, loss_critic=-0.487]\n"
     ]
    },
    {
     "name": "stdout",
     "output_type": "stream",
     "text": [
      "Epoch [27/30]\n"
     ]
    },
    {
     "name": "stderr",
     "output_type": "stream",
     "text": [
      "100%|██████████| 1015/1015 [05:49<00:00,  2.91it/s, gp=0.0117, loss_critic=3.13]\n"
     ]
    },
    {
     "name": "stdout",
     "output_type": "stream",
     "text": [
      "Epoch [28/30]\n"
     ]
    },
    {
     "name": "stderr",
     "output_type": "stream",
     "text": [
      "100%|██████████| 1015/1015 [05:46<00:00,  2.93it/s, gp=0.0136, loss_critic=-0.35]\n"
     ]
    },
    {
     "name": "stdout",
     "output_type": "stream",
     "text": [
      "Epoch [29/30]\n"
     ]
    },
    {
     "name": "stderr",
     "output_type": "stream",
     "text": [
      "100%|██████████| 1015/1015 [05:45<00:00,  2.94it/s, gp=0.00817, loss_critic=-0.705]\n"
     ]
    },
    {
     "name": "stdout",
     "output_type": "stream",
     "text": [
      "Epoch [30/30]\n"
     ]
    },
    {
     "name": "stderr",
     "output_type": "stream",
     "text": [
      "100%|██████████| 1015/1015 [05:46<00:00,  2.93it/s, gp=0.0138, loss_critic=-1.65]\n"
     ]
    },
    {
     "name": "stdout",
     "output_type": "stream",
     "text": [
      "Current image size: 128\n",
      "Epoch [1/30]\n"
     ]
    },
    {
     "name": "stderr",
     "output_type": "stream",
     "text": [
      "100%|██████████| 1015/1015 [12:56<00:00,  1.31it/s, gp=0.00641, loss_critic=-4.35]\n"
     ]
    },
    {
     "name": "stdout",
     "output_type": "stream",
     "text": [
      "Epoch [2/30]\n"
     ]
    },
    {
     "name": "stderr",
     "output_type": "stream",
     "text": [
      "100%|██████████| 1015/1015 [12:55<00:00,  1.31it/s, gp=0.0202, loss_critic=-1.22]\n"
     ]
    },
    {
     "name": "stdout",
     "output_type": "stream",
     "text": [
      "Epoch [3/30]\n"
     ]
    },
    {
     "name": "stderr",
     "output_type": "stream",
     "text": [
      "100%|██████████| 1015/1015 [12:51<00:00,  1.32it/s, gp=0.0534, loss_critic=2.39]\n"
     ]
    },
    {
     "name": "stdout",
     "output_type": "stream",
     "text": [
      "Epoch [4/30]\n"
     ]
    },
    {
     "name": "stderr",
     "output_type": "stream",
     "text": [
      "100%|██████████| 1015/1015 [12:54<00:00,  1.31it/s, gp=0.0187, loss_critic=-3.64]\n"
     ]
    },
    {
     "name": "stdout",
     "output_type": "stream",
     "text": [
      "Epoch [5/30]\n"
     ]
    },
    {
     "name": "stderr",
     "output_type": "stream",
     "text": [
      "100%|██████████| 1015/1015 [13:02<00:00,  1.30it/s, gp=0.0264, loss_critic=4.65]\n"
     ]
    },
    {
     "name": "stdout",
     "output_type": "stream",
     "text": [
      "Epoch [6/30]\n"
     ]
    },
    {
     "name": "stderr",
     "output_type": "stream",
     "text": [
      "100%|██████████| 1015/1015 [13:02<00:00,  1.30it/s, gp=0.0335, loss_critic=-6.85]\n"
     ]
    },
    {
     "name": "stdout",
     "output_type": "stream",
     "text": [
      "Epoch [7/30]\n"
     ]
    },
    {
     "name": "stderr",
     "output_type": "stream",
     "text": [
      "100%|██████████| 1015/1015 [12:59<00:00,  1.30it/s, gp=0.0142, loss_critic=-6.74]\n"
     ]
    },
    {
     "name": "stdout",
     "output_type": "stream",
     "text": [
      "Epoch [8/30]\n"
     ]
    },
    {
     "name": "stderr",
     "output_type": "stream",
     "text": [
      "100%|██████████| 1015/1015 [12:57<00:00,  1.30it/s, gp=0.0779, loss_critic=-0.257]\n"
     ]
    },
    {
     "name": "stdout",
     "output_type": "stream",
     "text": [
      "Epoch [9/30]\n"
     ]
    },
    {
     "name": "stderr",
     "output_type": "stream",
     "text": [
      "100%|██████████| 1015/1015 [12:59<00:00,  1.30it/s, gp=0.0487, loss_critic=-7.11]\n"
     ]
    },
    {
     "name": "stdout",
     "output_type": "stream",
     "text": [
      "Epoch [10/30]\n"
     ]
    },
    {
     "name": "stderr",
     "output_type": "stream",
     "text": [
      "100%|██████████| 1015/1015 [12:55<00:00,  1.31it/s, gp=0.0177, loss_critic=-0.575]\n"
     ]
    },
    {
     "name": "stdout",
     "output_type": "stream",
     "text": [
      "Epoch [11/30]\n"
     ]
    },
    {
     "name": "stderr",
     "output_type": "stream",
     "text": [
      "100%|██████████| 1015/1015 [12:55<00:00,  1.31it/s, gp=0.0104, loss_critic=-2.7]\n"
     ]
    },
    {
     "name": "stdout",
     "output_type": "stream",
     "text": [
      "Epoch [12/30]\n"
     ]
    },
    {
     "name": "stderr",
     "output_type": "stream",
     "text": [
      "100%|██████████| 1015/1015 [12:54<00:00,  1.31it/s, gp=0.0583, loss_critic=-2.21]\n"
     ]
    },
    {
     "name": "stdout",
     "output_type": "stream",
     "text": [
      "Epoch [13/30]\n"
     ]
    },
    {
     "name": "stderr",
     "output_type": "stream",
     "text": [
      "100%|██████████| 1015/1015 [12:52<00:00,  1.31it/s, gp=0.0641, loss_critic=-10.3]\n"
     ]
    },
    {
     "name": "stdout",
     "output_type": "stream",
     "text": [
      "Epoch [14/30]\n"
     ]
    },
    {
     "name": "stderr",
     "output_type": "stream",
     "text": [
      "100%|██████████| 1015/1015 [12:50<00:00,  1.32it/s, gp=0.0134, loss_critic=1.84]\n"
     ]
    },
    {
     "name": "stdout",
     "output_type": "stream",
     "text": [
      "Epoch [15/30]\n"
     ]
    },
    {
     "name": "stderr",
     "output_type": "stream",
     "text": [
      "100%|██████████| 1015/1015 [12:49<00:00,  1.32it/s, gp=0.0545, loss_critic=2.77]\n"
     ]
    },
    {
     "name": "stdout",
     "output_type": "stream",
     "text": [
      "Epoch [16/30]\n"
     ]
    },
    {
     "name": "stderr",
     "output_type": "stream",
     "text": [
      "100%|██████████| 1015/1015 [12:55<00:00,  1.31it/s, gp=0.0223, loss_critic=-4.84]\n"
     ]
    },
    {
     "name": "stdout",
     "output_type": "stream",
     "text": [
      "Epoch [17/30]\n"
     ]
    },
    {
     "name": "stderr",
     "output_type": "stream",
     "text": [
      "100%|██████████| 1015/1015 [12:54<00:00,  1.31it/s, gp=0.214, loss_critic=-11.2]\n"
     ]
    },
    {
     "name": "stdout",
     "output_type": "stream",
     "text": [
      "Epoch [18/30]\n"
     ]
    },
    {
     "name": "stderr",
     "output_type": "stream",
     "text": [
      "100%|██████████| 1015/1015 [12:59<00:00,  1.30it/s, gp=0.0308, loss_critic=-6.78]\n"
     ]
    },
    {
     "name": "stdout",
     "output_type": "stream",
     "text": [
      "Epoch [19/30]\n"
     ]
    },
    {
     "name": "stderr",
     "output_type": "stream",
     "text": [
      "100%|██████████| 1015/1015 [13:03<00:00,  1.30it/s, gp=0.0459, loss_critic=-4.74]\n"
     ]
    },
    {
     "name": "stdout",
     "output_type": "stream",
     "text": [
      "Epoch [20/30]\n"
     ]
    },
    {
     "name": "stderr",
     "output_type": "stream",
     "text": [
      "100%|██████████| 1015/1015 [12:59<00:00,  1.30it/s, gp=0.12, loss_critic=-23.9]\n"
     ]
    },
    {
     "name": "stdout",
     "output_type": "stream",
     "text": [
      "Epoch [21/30]\n"
     ]
    },
    {
     "name": "stderr",
     "output_type": "stream",
     "text": [
      "100%|██████████| 1015/1015 [12:57<00:00,  1.30it/s, gp=0.0172, loss_critic=-0.545]\n"
     ]
    },
    {
     "name": "stdout",
     "output_type": "stream",
     "text": [
      "Epoch [22/30]\n"
     ]
    },
    {
     "name": "stderr",
     "output_type": "stream",
     "text": [
      "100%|██████████| 1015/1015 [12:59<00:00,  1.30it/s, gp=0.0664, loss_critic=-4.9]\n"
     ]
    },
    {
     "name": "stdout",
     "output_type": "stream",
     "text": [
      "Epoch [23/30]\n"
     ]
    },
    {
     "name": "stderr",
     "output_type": "stream",
     "text": [
      "100%|██████████| 1015/1015 [13:02<00:00,  1.30it/s, gp=0.0783, loss_critic=-7.82]\n"
     ]
    },
    {
     "name": "stdout",
     "output_type": "stream",
     "text": [
      "Epoch [24/30]\n"
     ]
    },
    {
     "name": "stderr",
     "output_type": "stream",
     "text": [
      "100%|██████████| 1015/1015 [12:57<00:00,  1.31it/s, gp=0.0331, loss_critic=12.2]\n"
     ]
    },
    {
     "name": "stdout",
     "output_type": "stream",
     "text": [
      "Epoch [25/30]\n"
     ]
    },
    {
     "name": "stderr",
     "output_type": "stream",
     "text": [
      "100%|██████████| 1015/1015 [12:54<00:00,  1.31it/s, gp=0.153, loss_critic=-7.64]\n"
     ]
    },
    {
     "name": "stdout",
     "output_type": "stream",
     "text": [
      "Epoch [26/30]\n"
     ]
    },
    {
     "name": "stderr",
     "output_type": "stream",
     "text": [
      "100%|██████████| 1015/1015 [12:57<00:00,  1.30it/s, gp=0.0242, loss_critic=-3.4]\n"
     ]
    },
    {
     "name": "stdout",
     "output_type": "stream",
     "text": [
      "Epoch [27/30]\n"
     ]
    },
    {
     "name": "stderr",
     "output_type": "stream",
     "text": [
      "100%|██████████| 1015/1015 [12:58<00:00,  1.30it/s, gp=0.0108, loss_critic=-4.3]\n"
     ]
    },
    {
     "name": "stdout",
     "output_type": "stream",
     "text": [
      "Epoch [28/30]\n"
     ]
    },
    {
     "name": "stderr",
     "output_type": "stream",
     "text": [
      "100%|██████████| 1015/1015 [13:04<00:00,  1.29it/s, gp=0.0226, loss_critic=-1.36]\n"
     ]
    },
    {
     "name": "stdout",
     "output_type": "stream",
     "text": [
      "Epoch [29/30]\n"
     ]
    },
    {
     "name": "stderr",
     "output_type": "stream",
     "text": [
      "100%|██████████| 1015/1015 [13:07<00:00,  1.29it/s, gp=0.0292, loss_critic=-5.21]\n"
     ]
    },
    {
     "name": "stdout",
     "output_type": "stream",
     "text": [
      "Epoch [30/30]\n"
     ]
    },
    {
     "name": "stderr",
     "output_type": "stream",
     "text": [
      "100%|██████████| 1015/1015 [13:03<00:00,  1.30it/s, gp=0.0173, loss_critic=0.658]\n"
     ]
    }
   ],
   "source": [
    "gen = Generator(\n",
    "        Z_DIM, W_DIM, IN_CHANNELS, img_channels=CHANNELS_IMG\n",
    "    ).to(DEVICE)\n",
    "critic = Discriminator(IN_CHANNELS, img_channels=CHANNELS_IMG).to(DEVICE)\n",
    "# initialize optimizers\n",
    "opt_gen = optim.Adam([{\"params\": [param for name, param in gen.named_parameters() if \"map\" not in name]},\n",
    "                        {\"params\": gen.map.parameters(), \"lr\": 1e-5}], lr=LEARNING_RATE, betas=(0.0, 0.99))\n",
    "opt_critic = optim.Adam(\n",
    "    critic.parameters(), lr=LEARNING_RATE, betas=(0.0, 0.99)\n",
    ")\n",
    "\n",
    "\n",
    "gen.train()\n",
    "critic.train()\n",
    "\n",
    "# start at step that corresponds to img size that we set in config\n",
    "step = int(log2(START_TRAIN_AT_IMG_SIZE / 4))\n",
    "for num_epochs in PROGRESSIVE_EPOCHS[step:]:\n",
    "    alpha = 1e-5   # start with very low alpha\n",
    "    loader, dataset = get_loader(4 * 2 ** step,'/kaggle/input/women-clothes/clothes' , batch_size=16) # Replace 'path/to/your/dataset' with the actual path to your dataset and adjust batch_size as needed.\n",
    "    print(f\"Current image size: {4 * 2 ** step}\")\n",
    "\n",
    "    for epoch in range(num_epochs):\n",
    "        print(f\"Epoch [{epoch+1}/{num_epochs}]\")\n",
    "        alpha = train_fn(\n",
    "            critic,\n",
    "            gen,\n",
    "            loader,\n",
    "            dataset,\n",
    "            step,\n",
    "            alpha,\n",
    "            opt_critic,\n",
    "            opt_gen\n",
    "        )\n",
    "\n",
    "    generate_examples(gen, step)\n",
    "    step += 1  # progress to the next img size\n"
   ]
  },
  {
   "cell_type": "code",
   "execution_count": null,
   "id": "45784a3b",
   "metadata": {
    "id": "F7C82l2QKNVO",
    "papermill": {
     "duration": 22.22348,
     "end_time": "2024-09-24T03:42:39.886069",
     "exception": false,
     "start_time": "2024-09-24T03:42:17.662589",
     "status": "completed"
    },
    "tags": []
   },
   "outputs": [],
   "source": []
  },
  {
   "cell_type": "code",
   "execution_count": null,
   "id": "e1b924ba",
   "metadata": {
    "id": "6aSomBDeKNTi",
    "papermill": {
     "duration": 22.503145,
     "end_time": "2024-09-24T03:43:24.776182",
     "exception": false,
     "start_time": "2024-09-24T03:43:02.273037",
     "status": "completed"
    },
    "tags": []
   },
   "outputs": [],
   "source": []
  }
 ],
 "metadata": {
  "accelerator": "GPU",
  "colab": {
   "gpuType": "T4",
   "provenance": []
  },
  "kaggle": {
   "accelerator": "gpu",
   "dataSources": [
    {
     "datasetId": 5753771,
     "sourceId": 9463302,
     "sourceType": "datasetVersion"
    }
   ],
   "dockerImageVersionId": 30762,
   "isGpuEnabled": true,
   "isInternetEnabled": true,
   "language": "python",
   "sourceType": "notebook"
  },
  "kernelspec": {
   "display_name": "Python 3",
   "language": "python",
   "name": "python3"
  },
  "language_info": {
   "codemirror_mode": {
    "name": "ipython",
    "version": 3
   },
   "file_extension": ".py",
   "mimetype": "text/x-python",
   "name": "python",
   "nbconvert_exporter": "python",
   "pygments_lexer": "ipython3",
   "version": "3.10.14"
  },
  "papermill": {
   "default_parameters": {},
   "duration": 42479.708377,
   "end_time": "2024-09-24T03:43:48.427299",
   "environment_variables": {},
   "exception": null,
   "input_path": "__notebook__.ipynb",
   "output_path": "__notebook__.ipynb",
   "parameters": {},
   "start_time": "2024-09-23T15:55:48.718922",
   "version": "2.6.0"
  }
 },
 "nbformat": 4,
 "nbformat_minor": 5
}
